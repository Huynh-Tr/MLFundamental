{
  "nbformat": 4,
  "nbformat_minor": 0,
  "metadata": {
    "colab": {
      "name": "AirCraft AI For Fun",
      "provenance": [],
      "collapsed_sections": [],
      "authorship_tag": "ABX9TyNyNp+ryDIBe0g5j+Ci9x6A",
      "include_colab_link": true
    },
    "kernelspec": {
      "name": "python3",
      "display_name": "Python 3"
    }
  },
  "cells": [
    {
      "cell_type": "markdown",
      "metadata": {
        "id": "view-in-github",
        "colab_type": "text"
      },
      "source": [
        "<a href=\"https://colab.research.google.com/github/truonghuynh210962/MLFundamental/blob/master/AirCraft_AI_For_Fun.ipynb\" target=\"_parent\"><img src=\"https://colab.research.google.com/assets/colab-badge.svg\" alt=\"Open In Colab\"/></a>"
      ]
    },
    {
      "cell_type": "code",
      "metadata": {
        "colab": {
          "base_uri": "https://localhost:8080/"
        },
        "id": "BpCQJbHHKFY_",
        "outputId": "65f6fc65-405f-4532-dd3c-45afa18d97c3"
      },
      "source": [
        "!pip install wget"
      ],
      "execution_count": null,
      "outputs": [
        {
          "output_type": "stream",
          "text": [
            "Requirement already satisfied: wget in /usr/local/lib/python3.6/dist-packages (3.2)\n"
          ],
          "name": "stdout"
        }
      ]
    },
    {
      "cell_type": "code",
      "metadata": {
        "id": "7KypYwLXJaP_"
      },
      "source": [
        "import numpy as np\r\n",
        "import pandas as pd\r\n",
        "import matplotlib.pyplot as plt\r\n",
        "import seaborn as sns\r\n",
        "import wget\r\n",
        "import os\r\n",
        "from PIL import Image\r\n",
        "from PIL import ImageShow\r\n",
        "import glob\r\n",
        "%matplotlib inline"
      ],
      "execution_count": null,
      "outputs": []
    },
    {
      "cell_type": "code",
      "metadata": {
        "id": "A772lIPjKLkG"
      },
      "source": [
        "# If dont have download data yet.\r\n",
        "\r\n",
        "#wget.download(\"https://data.deepai.org/FGVCAircraft.zip\")\r\n",
        "# import zipfile\r\n",
        "# with zipfile.ZipFile(\"FGVCAircraft.zip\") as zip:\r\n",
        "#   zip.extractall(\"./FGVCAircraft/\")"
      ],
      "execution_count": null,
      "outputs": []
    },
    {
      "cell_type": "code",
      "metadata": {
        "id": "FwznOjEOLbQt",
        "colab": {
          "base_uri": "https://localhost:8080/"
        },
        "outputId": "591753d3-3542-4316-8509-c8743abebdc0"
      },
      "source": [
        "cd \"/content/FGVCAircraft/fgvc-aircraft-2013b/data/images/\""
      ],
      "execution_count": null,
      "outputs": [
        {
          "output_type": "stream",
          "text": [
            "/content/FGVCAircraft/fgvc-aircraft-2013b/data/images\n"
          ],
          "name": "stdout"
        }
      ]
    },
    {
      "cell_type": "code",
      "metadata": {
        "colab": {
          "base_uri": "https://localhost:8080/"
        },
        "id": "ENM2CO8SNf5l",
        "outputId": "aef8a61b-c69a-4708-915e-e01887541a95"
      },
      "source": [
        "images = glob.glob(\"/content/FGVCAircraft/fgvc-aircraft-2013b/data/images/*\")\r\n",
        "len(images)"
      ],
      "execution_count": null,
      "outputs": [
        {
          "output_type": "execute_result",
          "data": {
            "text/plain": [
              "10000"
            ]
          },
          "metadata": {
            "tags": []
          },
          "execution_count": 87
        }
      ]
    },
    {
      "cell_type": "code",
      "metadata": {
        "colab": {
          "base_uri": "https://localhost:8080/"
        },
        "id": "mbz_tP3kZnYK",
        "outputId": "06d24a5e-8939-4a24-9227-a88302dac139"
      },
      "source": [
        "with open(\"/content/FGVCAircraft/fgvc-aircraft-2013b/data/families.txt\") as f:\r\n",
        "  for i in f:\r\n",
        "    print (i,end=\"\")"
      ],
      "execution_count": null,
      "outputs": [
        {
          "output_type": "stream",
          "text": [
            "A300\n",
            "A310\n",
            "A320\n",
            "A330\n",
            "A340\n",
            "A380\n",
            "ATR-42\n",
            "ATR-72\n",
            "An-12\n",
            "BAE 146\n",
            "BAE-125\n",
            "Beechcraft 1900\n",
            "Boeing 707\n",
            "Boeing 717\n",
            "Boeing 727\n",
            "Boeing 737\n",
            "Boeing 747\n",
            "Boeing 757\n",
            "Boeing 767\n",
            "Boeing 777\n",
            "C-130\n",
            "C-47\n",
            "CRJ-200\n",
            "CRJ-700\n",
            "Cessna 172\n",
            "Cessna 208\n",
            "Cessna Citation\n",
            "Challenger 600\n",
            "DC-10\n",
            "DC-3\n",
            "DC-6\n",
            "DC-8\n",
            "DC-9\n",
            "DH-82\n",
            "DHC-1\n",
            "DHC-6\n",
            "DR-400\n",
            "Dash 8\n",
            "Dornier 328\n",
            "EMB-120\n",
            "Embraer E-Jet\n",
            "Embraer ERJ 145\n",
            "Embraer Legacy 600\n",
            "Eurofighter Typhoon\n",
            "F-16\n",
            "F/A-18\n",
            "Falcon 2000\n",
            "Falcon 900\n",
            "Fokker 100\n",
            "Fokker 50\n",
            "Fokker 70\n",
            "Global Express\n",
            "Gulfstream\n",
            "Hawk T1\n",
            "Il-76\n",
            "King Air\n",
            "L-1011\n",
            "MD-11\n",
            "MD-80\n",
            "MD-90\n",
            "Metroliner\n",
            "PA-28\n",
            "SR-20\n",
            "Saab 2000\n",
            "Saab 340\n",
            "Spitfire\n",
            "Tornado\n",
            "Tu-134\n",
            "Tu-154\n",
            "Yak-42\n"
          ],
          "name": "stdout"
        }
      ]
    },
    {
      "cell_type": "code",
      "metadata": {
        "colab": {
          "base_uri": "https://localhost:8080/"
        },
        "id": "NfNMl1Xqa6FT",
        "outputId": "f62e625f-53dc-43cf-c1c2-36ade7695dd3"
      },
      "source": [
        "test = pd.read_csv(\"/content/FGVCAircraft/fgvc-aircraft-2013b/data/images_family_test.txt\", index_col = False,sep = \" \",header=None, names = [\"i\",\"Manufacturer\",\"detail\"])\r\n",
        "test.replace(np.nan,\"\",inplace = True)\r\n",
        "test[\"Type\"] = test[\"Manufacturer\"] + \" \" + test[\"detail\"]\r\n",
        "testset = test[[\"i\",\"Type\"]]\r\n",
        "len(testset)"
      ],
      "execution_count": null,
      "outputs": [
        {
          "output_type": "execute_result",
          "data": {
            "text/plain": [
              "3333"
            ]
          },
          "metadata": {
            "tags": []
          },
          "execution_count": 254
        }
      ]
    },
    {
      "cell_type": "code",
      "metadata": {
        "colab": {
          "base_uri": "https://localhost:8080/"
        },
        "id": "xv52XkKoi8ox",
        "outputId": "d77b9a80-d9c1-4527-d4e3-45e5573c164a"
      },
      "source": [
        "testset[\"Type\"].value_counts()"
      ],
      "execution_count": null,
      "outputs": [
        {
          "output_type": "execute_result",
          "data": {
            "text/plain": [
              "Boeing 737        267\n",
              "A340              134\n",
              "A320              134\n",
              "Boeing 747        133\n",
              "Boeing 767        100\n",
              "                 ... \n",
              "Hawk T1            33\n",
              "C-130              33\n",
              "Yak-42             33\n",
              "An-12              33\n",
              "Embraer Legacy     33\n",
              "Name: Type, Length: 70, dtype: int64"
            ]
          },
          "metadata": {
            "tags": []
          },
          "execution_count": 255
        }
      ]
    },
    {
      "cell_type": "code",
      "metadata": {
        "colab": {
          "base_uri": "https://localhost:8080/"
        },
        "id": "4jm2rSdfeWgR",
        "outputId": "dd7a9d6d-509e-42c0-d5b2-75b8bfeefc4b"
      },
      "source": [
        "train = pd.read_csv(\"/content/FGVCAircraft/fgvc-aircraft-2013b/data/images_family_train.txt\", index_col = False,sep = \" \",header=None, names = [\"i\",\"Manufacturer\",\"detail\"])\r\n",
        "train.replace(np.nan,\"\",inplace = True)\r\n",
        "train[\"Type\"] = train[\"Manufacturer\"] + \" \" + train[\"detail\"]\r\n",
        "trainset = train[[\"i\",\"Type\"]]\r\n",
        "print (len(trainset))\r\n",
        "trainset[\"Type\"].value_counts()"
      ],
      "execution_count": null,
      "outputs": [
        {
          "output_type": "stream",
          "text": [
            "3334\n"
          ],
          "name": "stdout"
        },
        {
          "output_type": "execute_result",
          "data": {
            "text/plain": [
              "Boeing 737        267\n",
              "A340              133\n",
              "Boeing 747        133\n",
              "A320              133\n",
              "Boeing 767        100\n",
              "                 ... \n",
              "Global Express     33\n",
              "C-47               33\n",
              "CRJ-200            33\n",
              "EMB-120            33\n",
              "ATR-72             33\n",
              "Name: Type, Length: 70, dtype: int64"
            ]
          },
          "metadata": {
            "tags": []
          },
          "execution_count": 257
        }
      ]
    },
    {
      "cell_type": "code",
      "metadata": {
        "colab": {
          "base_uri": "https://localhost:8080/"
        },
        "id": "zSFLKShVklZE",
        "outputId": "ce0a4dc5-fc8a-4415-cc34-be28d23b2894"
      },
      "source": [
        "path = \"/content/FGVCAircraft/fgvc-aircraft-2013b/data/manufacturers.txt\"\r\n",
        "with open(path) as f:\r\n",
        "  for i, line in enumerate(f):\r\n",
        "    print (i, line, end=\"\")"
      ],
      "execution_count": null,
      "outputs": [
        {
          "output_type": "stream",
          "text": [
            "0 ATR\n",
            "1 Airbus\n",
            "2 Antonov\n",
            "3 Beechcraft\n",
            "4 Boeing\n",
            "5 Bombardier Aerospace\n",
            "6 British Aerospace\n",
            "7 Canadair\n",
            "8 Cessna\n",
            "9 Cirrus Aircraft\n",
            "10 Dassault Aviation\n",
            "11 Dornier\n",
            "12 Douglas Aircraft Company\n",
            "13 Embraer\n",
            "14 Eurofighter\n",
            "15 Fairchild\n",
            "16 Fokker\n",
            "17 Gulfstream Aerospace\n",
            "18 Ilyushin\n",
            "19 Lockheed Corporation\n",
            "20 Lockheed Martin\n",
            "21 McDonnell Douglas\n",
            "22 Panavia\n",
            "23 Piper\n",
            "24 Robin\n",
            "25 Saab\n",
            "26 Supermarine\n",
            "27 Tupolev\n",
            "28 Yakovlev\n",
            "29 de Havilland\n"
          ],
          "name": "stdout"
        }
      ]
    }
  ]
}